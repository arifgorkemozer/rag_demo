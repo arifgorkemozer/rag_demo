{
  "cells": [
    {
      "cell_type": "markdown",
      "id": "da008d2d",
      "metadata": {
        "id": "da008d2d"
      },
      "source": [
        "### Install required libraries"
      ]
    },
    {
      "cell_type": "code",
      "execution_count": null,
      "id": "75a44445",
      "metadata": {
        "id": "75a44445",
        "outputId": "78a0b9bc-0551-4f6e-8db4-09f4128225e0"
      },
      "outputs": [],
      "source": [
        "!pip install -qqq ipykernel==6.29.5 --progress-bar off\n",
        "!pip install -qqq pandas==2.2.3 --progress-bar off\n",
        "!pip install -qqq pdfminer --progress-bar off            # convert pdf to text\n",
        "!pip install -qqq pdfminer.six --progress-bar off        # convert pdf to text\n",
        "!pip install -qqq sqlite-vec==0.1.1 --progress-bar off   # vector db\n",
        "!pip install -qqq fastembed==0.3.4 --progress-bar off    # embeddings"
      ]
    },
    {
      "cell_type": "markdown",
      "id": "200dd743",
      "metadata": {
        "id": "200dd743"
      },
      "source": [
        "Import libraries"
      ]
    },
    {
      "cell_type": "code",
      "execution_count": null,
      "id": "439f44ca",
      "metadata": {
        "id": "439f44ca"
      },
      "outputs": [],
      "source": [
        "import json\n",
        "import os\n",
        "import pprint\n",
        "import requests\n",
        "import sqlite3\n",
        "import sqlite_vec\n",
        "from fastembed import TextEmbedding\n",
        "from pdfminer.high_level import extract_text\n"
      ]
    },
    {
      "cell_type": "markdown",
      "id": "d870d562",
      "metadata": {
        "id": "d870d562"
      },
      "source": [
        "Constants"
      ]
    },
    {
      "cell_type": "code",
      "execution_count": null,
      "id": "39ff3ffc",
      "metadata": {
        "id": "39ff3ffc"
      },
      "outputs": [],
      "source": [
        "DB_NAME = \"metu_academic\"\n",
        "TABLE_NAME = \"metu_academic_rules\"\n",
        "ORIG_DOCS_FOLDER = \"./docs\"\n",
        "TEXT_DOCS_FOLDER = \"./docs_text\""
      ]
    },
    {
      "cell_type": "markdown",
      "id": "e2dce323",
      "metadata": {
        "id": "e2dce323"
      },
      "source": [
        "Convert PDF documents to .txt documents"
      ]
    },
    {
      "cell_type": "code",
      "execution_count": null,
      "id": "03988e38",
      "metadata": {
        "id": "03988e38"
      },
      "outputs": [],
      "source": [
        "def pdf_to_text(pdf_path, txt_path):\n",
        "    text = extract_text(pdf_path)\n",
        "    with open(txt_path, \"w\", encoding=\"utf-8\") as txt_file:\n",
        "        txt_file.write(text)\n",
        "\n",
        "\n",
        "for fname in os.listdir(f\"./{ORIG_DOCS_FOLDER}\"):\n",
        "    pdf_to_text(f\"./{ORIG_DOCS_FOLDER}/{fname}\", f\"./{TEXT_DOCS_FOLDER}/{fname}.txt\")"
      ]
    },
    {
      "cell_type": "markdown",
      "id": "05e5d6f3",
      "metadata": {
        "id": "05e5d6f3"
      },
      "source": [
        "Create SQLite database file"
      ]
    },
    {
      "cell_type": "code",
      "execution_count": null,
      "id": "0d4a1465",
      "metadata": {
        "id": "0d4a1465"
      },
      "outputs": [],
      "source": [
        "db = sqlite3.connect(DB_NAME + \".db\")\n",
        "db.enable_load_extension(True)\n",
        "sqlite_vec.load(db)\n",
        "db.enable_load_extension(False)"
      ]
    },
    {
      "cell_type": "markdown",
      "id": "6a1625ab",
      "metadata": {
        "id": "6a1625ab"
      },
      "source": [
        "Add metadata table to the database"
      ]
    },
    {
      "cell_type": "code",
      "execution_count": null,
      "id": "b019754c",
      "metadata": {
        "id": "b019754c",
        "outputId": "775c9f84-906a-4179-f868-c585a283aa31"
      },
      "outputs": [],
      "source": [
        "# drop metadata table if exists before\n",
        "db.execute(f\"DROP TABLE IF EXISTS {TABLE_NAME};\")\n",
        "\n",
        "# create metadata table\n",
        "db.execute(f\"\"\"\n",
        "        CREATE TABLE {TABLE_NAME} (\n",
        "            id INTEGER PRIMARY KEY,\n",
        "            text TEXT NOT NULL\n",
        "        );\n",
        "    \"\"\")\n",
        "\n",
        "\n",
        "all_paragraphs = {}\n",
        "filenames = []\n",
        "paragraph_texts = []\n",
        "\n",
        "for text_filename in os.listdir(f\"./{TEXT_DOCS_FOLDER}\"):\n",
        "    print(f\"Processing: {text_filename}\")\n",
        "\n",
        "    content_file = open(f\"./{TEXT_DOCS_FOLDER}/{text_filename}\", \"r\")\n",
        "    content_lines = content_file.readlines()\n",
        "    full_content = \"\".join(content_lines)\n",
        "    paragraphs = [text_block for text_block in full_content.split(\"\\n\\n\") if text_block.strip() != \"\" and len(text_block.split(\" \")) > 1 and \".\" in text_block and len(text_block) > 100]\n",
        "\n",
        "    for i, paragraph in enumerate(paragraphs):\n",
        "        orig_fname = text_filename[0 : -4] # remove .txt at the end\n",
        "        all_paragraphs[i+1] = (orig_fname, paragraph)\n",
        "        filenames.append(orig_fname)\n",
        "        paragraph_texts.append(paragraph)\n",
        "\n",
        "\n",
        "for i in range(len(paragraph_texts)):\n",
        "    db.execute(f\"\"\"INSERT INTO {TABLE_NAME}(id, text) VALUES (?, ?)\"\"\", [i+1, paragraph_texts[i]])"
      ]
    },
    {
      "cell_type": "markdown",
      "id": "69ba101a",
      "metadata": {
        "id": "69ba101a"
      },
      "source": [
        "Add embeddings table to the database"
      ]
    },
    {
      "cell_type": "code",
      "execution_count": null,
      "id": "7f177bd9",
      "metadata": {
        "colab": {
          "referenced_widgets": [
            "31378ad1e7924d9b949e87e84b435b62"
          ]
        },
        "id": "7f177bd9",
        "outputId": "562c4aa1-1a6e-4d1e-b5bb-19a58bad4e44"
      },
      "outputs": [],
      "source": [
        "model = TextEmbedding()"
      ]
    },
    {
      "cell_type": "code",
      "execution_count": null,
      "id": "f3899f21",
      "metadata": {
        "id": "f3899f21"
      },
      "outputs": [],
      "source": [
        "# convert to embeddings\n",
        "document_embeddings = list(model.embed(paragraph_texts))\n",
        "\n",
        "# drop embedding table if exists before\n",
        "db.execute(f\"DROP TABLE IF EXISTS document_embeddings;\")\n",
        "\n",
        "db.execute(\n",
        "    f\"\"\"\n",
        "        CREATE VIRTUAL TABLE document_embeddings USING vec0(\n",
        "        id INTEGER PRIMARY KEY,\n",
        "        embedding FLOAT[{len(document_embeddings[0])}]\n",
        "        );\n",
        "    \"\"\"\n",
        ")\n",
        "\n",
        "for i in range(len(paragraph_texts)):\n",
        "    db.execute(f\"\"\"INSERT INTO document_embeddings(id, embedding) VALUES (?, ?)\"\"\", [i+1, sqlite_vec.serialize_float32(document_embeddings[i])])"
      ]
    },
    {
      "cell_type": "markdown",
      "id": "d9dc3555",
      "metadata": {},
      "source": [
        "Sample questions"
      ]
    },
    {
      "cell_type": "code",
      "execution_count": null,
      "id": "c5a034ba",
      "metadata": {},
      "outputs": [],
      "source": [
        "sample_questions = [\n",
        "    \"i am a graduate student and i got an incomplete from one of my courses. when will the final letter grade announced?\",\n",
        "    \"i haven't paid my dormitory payment, can i still apply for being an exchange student in northern cyprus?\",\n",
        "    \"i would like to apply for a graduate program in metu, what are the requirements for candidates?\",\n",
        "    \"when is the last time for finding a thesis supervisor for a master's program?\",\n",
        "    \"what is the lowest grade for scholarship cancellation?\",\n",
        "]"
      ]
    },
    {
      "cell_type": "markdown",
      "id": "10910f63",
      "metadata": {},
      "source": [
        "Prepare user prompt"
      ]
    },
    {
      "cell_type": "code",
      "execution_count": null,
      "id": "7423b0af",
      "metadata": {},
      "outputs": [],
      "source": [
        "user_prompt = sample_questions[4]\n",
        "\n",
        "print(\"Zero shot prompt:\")\n",
        "print(\"---\")\n",
        "print(user_prompt)"
      ]
    },
    {
      "cell_type": "markdown",
      "id": "786ae741",
      "metadata": {},
      "source": [
        "Number of RAG examples"
      ]
    },
    {
      "cell_type": "code",
      "execution_count": null,
      "id": "ad84f648",
      "metadata": {},
      "outputs": [],
      "source": [
        "NUM_OF_EXAMPLES = 5"
      ]
    },
    {
      "cell_type": "markdown",
      "id": "c3b8e9ce",
      "metadata": {
        "id": "c3b8e9ce"
      },
      "source": [
        "Search similar documents and generate enriched LLM prompt"
      ]
    },
    {
      "cell_type": "code",
      "execution_count": null,
      "id": "2bba66f7",
      "metadata": {
        "id": "2bba66f7",
        "outputId": "b3bdfcd7-498b-4e05-b10f-5751fbb41e51"
      },
      "outputs": [],
      "source": [
        "query_embedding = list(model.embed(user_prompt))[0]\n",
        "\n",
        "results = db.execute(\n",
        "    f\"\"\"\n",
        "    SELECT\n",
        "        document_embeddings.id,\n",
        "        distance,\n",
        "        {TABLE_NAME}.text\n",
        "    FROM document_embeddings\n",
        "    LEFT JOIN {TABLE_NAME} ON {TABLE_NAME}.id = document_embeddings.id\n",
        "    WHERE document_embeddings.embedding MATCH ?\n",
        "        AND k = ?\n",
        "    ORDER BY distance\n",
        "    \"\"\",\n",
        "    [sqlite_vec.serialize_float32(query_embedding), NUM_OF_EXAMPLES],\n",
        ").fetchall()\n",
        "\n",
        "related_paragraphs = [item[2] for item in results]\n",
        "prompt = user_prompt + \"\\n\" + \"\\n\"\n",
        "prompt += \"Example information that can be used while answering the question:\\n\"\n",
        "prompt += \"\\n\".join([\"=> \" + p for p in related_paragraphs])\n",
        "\n",
        "print(f\"\"\"Generated prompt:\n",
        "---\n",
        "{\"Answer the following question according to the paragraphs provided to you.\\n\" + prompt}\n",
        "\"\"\")\n"
      ]
    },
    {
      "cell_type": "markdown",
      "id": "a37cbb26",
      "metadata": {
        "id": "a37cbb26"
      },
      "source": [
        "LLM inference with enriched prompt"
      ]
    },
    {
      "cell_type": "code",
      "execution_count": null,
      "id": "15d56b40",
      "metadata": {},
      "outputs": [],
      "source": [
        "def call_inference_endpoint(url, prompt):\n",
        "    try:\n",
        "        # Text Generation\n",
        "        print(f\"Sending request to {url}\")\n",
        "        response = requests.post(\n",
        "            url,\n",
        "            json={\n",
        "                \"prompt\": \"Answer the following question according to the paragraphs provided to you.\\n\" + prompt,\n",
        "                \"model_id\": \"Qwen/Qwen2.5-Coder-7B-Instruct\",\n",
        "                \"engine\": \"huggingface\",\n",
        "            }\n",
        "        )\n",
        "        response.raise_for_status()\n",
        "        result = response.json()\n",
        "        print(f\"Response received: {result['response']}\")\n",
        "    except requests.exceptions.RequestException as e:\n",
        "        print(f\"Error making request: {e}\")\n",
        "    except json.JSONDecodeError as e:\n",
        "        print(f\"Error decoding response: {e}\")\n",
        "        print(f\"Raw response: {result['response']}\")"
      ]
    },
    {
      "cell_type": "code",
      "execution_count": null,
      "id": "a1e312a7",
      "metadata": {},
      "outputs": [],
      "source": [
        "url = \"http://<your host URL>:8080/api/inference\"\n",
        "\n",
        "call_inference_endpoint(url, prompt=\"who are you?\")"
      ]
    }
  ],
  "metadata": {
    "colab": {
      "provenance": []
    },
    "kernelspec": {
      "display_name": "mtl",
      "language": "python",
      "name": "python3"
    },
    "language_info": {
      "codemirror_mode": {
        "name": "ipython",
        "version": 3
      },
      "file_extension": ".py",
      "mimetype": "text/x-python",
      "name": "python",
      "nbconvert_exporter": "python",
      "pygments_lexer": "ipython3",
      "version": "3.10.11"
    }
  },
  "nbformat": 4,
  "nbformat_minor": 5
}
